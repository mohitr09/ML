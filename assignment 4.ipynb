{
 "cells": [
  {
   "cell_type": "code",
   "execution_count": 8,
   "metadata": {},
   "outputs": [
    {
     "name": "stdout",
     "output_type": "stream",
     "text": [
      "      Name  Age              Email        Phno\n",
      "0    Mohit   21    mohit@gmail.com  8123477234\n",
      "1  Nishant   22   hardik@gmail.com  8473718294\n",
      "2    Oshin   20    oshin@gmail.com  9827847362\n",
      "3   Hardik   23  nishant@gmail.com  9485736278\n"
     ]
    }
   ],
   "source": [
    "import pandas as pd\n",
    "data={'Name':['Mohit', 'Nishant', 'Oshin', 'Hardik'], 'Age':[21,22,20,23], 'Email':['mohit@gmail.com','hardik@gmail.com'\n",
    "                                                                                ,'oshin@gmail.com','nishant@gmail.com'],'Phno':[8123477234,8473718294,9827847362,9485736278]}\n",
    "df=pd.DataFrame(data)\n",
    "print(df)"
   ]
  },
  {
   "cell_type": "code",
   "execution_count": 9,
   "metadata": {},
   "outputs": [
    {
     "data": {
      "text/plain": [
       "0    0.5\n",
       "1    4.4\n",
       "dtype: float64"
      ]
     },
     "execution_count": 9,
     "metadata": {},
     "output_type": "execute_result"
    }
   ],
   "source": [
    "df1=pd.read_csv('ass 4.csv')\n",
    "df1.head()\n",
    "\n",
    "df1.head(10)\n",
    "\n",
    "df1['MaxTemp'].sum()\n",
    "df1['MaxTemp'].mean()\n",
    "df1['MaxTemp'].describe()\n",
    "df1['MaxTemp'].count()\n",
    "df1['MaxTemp'].max()\n",
    "df1['MaxTemp'].min()\n",
    "df1['MaxTemp'].median()\n",
    "df1['MaxTemp'].mode()\n",
    "\n",
    "df1.tail(5)\n",
    "\n",
    "df1['MinTemp'].sum()\n",
    "df1['MinTemp'].mean()\n",
    "df1['MinTemp'].describe()\n",
    "df1['MinTemp'].count()\n",
    "df1['MinTemp'].max()\n",
    "df1['MinTemp'].min()\n",
    "df1['MinTemp'].median()\n",
    "df1['MinTemp'].mode()\n"
   ]
  },
  {
   "cell_type": "code",
   "execution_count": null,
   "metadata": {},
   "outputs": [],
   "source": []
  }
 ],
 "metadata": {
  "kernelspec": {
   "display_name": "Python 3",
   "language": "python",
   "name": "python3"
  },
  "language_info": {
   "codemirror_mode": {
    "name": "ipython",
    "version": 3
   },
   "file_extension": ".py",
   "mimetype": "text/x-python",
   "name": "python",
   "nbconvert_exporter": "python",
   "pygments_lexer": "ipython3",
   "version": "3.7.0"
  }
 },
 "nbformat": 4,
 "nbformat_minor": 2
}
